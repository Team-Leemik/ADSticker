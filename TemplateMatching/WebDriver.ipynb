{
 "cells": [
  {
   "cell_type": "code",
   "execution_count": null,
   "metadata": {},
   "outputs": [],
   "source": [
    "import time\n",
    "import sys\n",
    "\n",
    "sys.path.append('/Users/yejin/Library/Python/3.9/lib/python/site-packages')\n",
    "from selenium import webdriver\n",
    "from selenium.webdriver.chrome.options import Options\n",
    "\n",
    "def CaptureThumbnail(videoID):\n",
    "    url = 'https://www.youtube.com/embed/' + str(videoID)\n",
    "\n",
    "    opts = Options()\n",
    "    opts.add_argument(\"--headless\")\n",
    "\n",
    "    driver = webdriver.Chrome(options=opts)\n",
    "    driver.get(url)\n",
    "    \n",
    "    video_player = driver.find_element('id','movie_player')\n",
    "    video_player.click()\n",
    "    time.sleep(2)\n",
    "    screenshot = video_player.screenshot_as_png\n",
    "\n",
    "    with open('thumbnail' + '.png', 'wb') as f:\n",
    "        f.write(screenshot)\n",
    "\n",
    "    driver.quit()"
   ]
  }
 ],
 "metadata": {
  "language_info": {
   "name": "python"
  },
  "orig_nbformat": 4
 },
 "nbformat": 4,
 "nbformat_minor": 2
}
