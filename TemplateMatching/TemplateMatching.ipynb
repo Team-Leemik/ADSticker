{
 "cells": [
  {
   "cell_type": "code",
   "execution_count": null,
   "id": "407d4802",
   "metadata": {},
   "outputs": [],
   "source": [
    "import cv2 as cv\n",
    "\n",
    "def IoU(box1, box2):\n",
    "    box1_area = (box1[2] - box1[0] + 1) * (box1[3] - box1[1] + 1)\n",
    "    box2_area = (box2[2] - box2[0] + 1) * (box2[3] - box2[1] + 1)\n",
    "\n",
    "    x1 = max(box1[0], box2[0])\n",
    "    y1 = max(box1[1], box2[1])\n",
    "    x2 = min(box1[2], box2[2])\n",
    "    y2 = min(box1[3], box2[3])\n",
    "\n",
    "    w = max(0, x2 - x1 + 1)\n",
    "    h = max(0, y2 - y1 + 1)\n",
    "\n",
    "    inter = w * h\n",
    "    iou = inter / (box1_area + box2_area - inter)\n",
    "    return iou\n",
    "\n",
    "def TemplateMatching(img):\n",
    "    methods = ['cv.TM_CCOEFF', 'cv.TM_CCOEFF_NORMED', 'cv.TM_CCORR', 'cv.TM_CCORR_NORMED', 'cv.TM_SQDIFF', 'cv.TM_SQDIFF_NORMED']\n",
    "\n",
    "    template = cv.imread('template2.png', cv.IMREAD_GRAYSCALE)\n",
    "    # cv.imshow('gray_image', template)\n",
    "    # cv.waitKey(0)\n",
    "    w, h = template.shape[::-1]\n",
    "    \n",
    "    vote = 0\n",
    "    for meth in methods:\n",
    "        method = eval(meth)\n",
    "\n",
    "        res = cv.matchTemplate(img,template,method)\n",
    "        min_val, max_val, min_loc, max_loc = cv.minMaxLoc(res)\n",
    "\n",
    "        if method in [cv.TM_SQDIFF, cv.TM_SQDIFF_NORMED]:\n",
    "            top_left = min_loc\n",
    "        else:\n",
    "            top_left = max_loc\n",
    "        bottom_right = (top_left[0] + w, top_left[1] + h)\n",
    "        box_xy = (top_left[0], top_left[1], bottom_right[0], bottom_right[1])\n",
    "        print(box_xy)\n",
    "        iou = IoU((38, 529, 133, 552), box_xy)\n",
    "        print(iou)\n",
    "        # hyperparameter: iou threshold\n",
    "        if iou >= 0.95:\n",
    "            vote += 1\n",
    "    # emsemble\n",
    "    # hyperparameter: vote threshold\n",
    "    print(vote)\n",
    "    if vote >= 5:\n",
    "        return 1\n",
    "    else:\n",
    "        return 0"
   ]
  },
  {
   "cell_type": "code",
   "execution_count": null,
   "id": "55f4619f",
   "metadata": {},
   "outputs": [],
   "source": [
    "img = cv.imread('thumbnail' + '.png', cv.IMREAD_GRAYSCALE)\n",
    "result = TemplateMatching(img)\n",
    "print(result)"
   ]
  }
 ],
 "metadata": {
  "kernelspec": {
   "display_name": "Python 3 (ipykernel)",
   "language": "python",
   "name": "python3"
  },
  "language_info": {
   "codemirror_mode": {
    "name": "ipython",
    "version": 3
   },
   "file_extension": ".py",
   "mimetype": "text/x-python",
   "name": "python",
   "nbconvert_exporter": "python",
   "pygments_lexer": "ipython3",
   "version": "3.9.13"
  }
 },
 "nbformat": 4,
 "nbformat_minor": 5
}
